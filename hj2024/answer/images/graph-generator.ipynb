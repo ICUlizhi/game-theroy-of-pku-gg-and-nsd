{
 "cells": [
  {
   "cell_type": "code",
   "execution_count": 4,
   "metadata": {},
   "outputs": [
    {
     "data": {
      "image/png": "[encoded data removed]",
      "text/plain": [
       "<Figure size 640x480 with 1 Axes>"
      ]
     },
     "metadata": {},
     "output_type": "display_data"
    }
   ],
   "source": [
    "import matplotlib.pyplot as plt\n",
    "import numpy as np\n",
    "\n",
    "# 创建图表\n",
    "\n",
    "\n",
    "# 定义折线的数据\n",
    "# BR1: 蓝色线条\n",
    "p1 = [0, 0, 1, 1]\n",
    "q1 = [0, 0.5, 0.5, 1]\n",
    "# BR2: 红色线条\n",
    "p2 = [0, 0.5, 0.5, 1]\n",
    "q2 = [1, 1, 0, 0]\n",
    "plt.plot(p1, q1, color='blue', label=r'$BR_1$')\n",
    "plt.plot(p2, q2, color='red', label=r'$BR_2$')\n",
    "\n",
    "# 设置坐标轴的范围\n",
    "plt.xlim(-0.1, 1.1)\n",
    "plt.ylim(-0.1, 1.1)\n",
    "\n",
    "# 添加坐标轴标签\n",
    "plt.xlabel(r'$p$', fontsize=12)\n",
    "plt.ylabel(r'$q$', fontsize=12)\n",
    "\n",
    "# 设置刻度值\n",
    "plt.xticks(np.arange(0, 1.1, 0.5))\n",
    "plt.yticks(np.arange(0, 1.1, 0.5))\n",
    "\n",
    "# 设置图表外观\n",
    "\n",
    "# 绘制网格\n",
    "plt.grid(False)\n",
    "\n",
    "# 显示图例\n",
    "plt.legend()\n",
    "\n",
    "# 显示图表\n",
    "plt.savefig('3-2b.png')\n",
    "plt.show()\n",
    "\n"
   ]
  },
  {
   "cell_type": "code",
   "execution_count": 3,
   "metadata": {},
   "outputs": [
    {
     "data": {
      "text/plain": [
       "'4-1b.png'"
      ]
     },
     "execution_count": 3,
     "metadata": {},
     "output_type": "execute_result"
    }
   ],
   "source": [
    "from graphviz import Digraph\n",
    "\n",
    "# 创建一个有向图\n",
    "dot = Digraph()\n",
    "\n",
    "# 要添加的节点及其标注 (格式：节点名, 辅助标注)\n",
    "nodes = [('x1', '1'), ('x2', '2'), ('x3', '2'), ('x4', '2'), \n",
    "         ('x5', '1,1'), ('x6', '0,2'), ('x7', '0,2'), ('x8', '2,0'), ('x9', '2,0'), ('x10', '1,1')]\n",
    "\n",
    "# 批量添加带标注的节点\n",
    "for node_info in nodes:\n",
    "    _node, xlabel = node_info  # 解包节点名称和辅助标注\n",
    "\n",
    "    # 添加节点，条件性地加入 xlabel\n",
    "    if xlabel is not None:  # 确保 xlabel 是字符串\n",
    "        dot.node(name=_node, label=_node, xlabel=str(xlabel))\n",
    "    else:\n",
    "        dot.node(name=_node, label=_node)\n",
    "\n",
    "# 要添加的边及其标注 (格式：起点, 终点, 标注)\n",
    "edges = [('x1', 'x2', 'a'), ('x1', 'x3', 'b'), ('x1', 'x4', 'c'),\n",
    "         ('x2', 'x5', 'b'), ('x2', 'x6', 'c'), \n",
    "         ('x3', 'x7', 'c'), ('x3', 'x8', 'a'),\n",
    "         ('x4', 'x9', 'a'), ('x4', 'x10', 'b')]\n",
    "\n",
    "# 批量添加带标注的边\n",
    "for start, end, label in edges:\n",
    "    dot.edge(start, end, label=label)\n",
    "\n",
    "# 在 Jupyter Notebook 中直接显示\n",
    "dot\n",
    "dot.render('4-1b', format='png')\n"
   ]
  },
  {
   "cell_type": "code",
   "execution_count": 3,
   "metadata": {},
   "outputs": [
    {
     "data": {
      "text/plain": [
       "'4-4a.png'"
      ]
     },
     "execution_count": 3,
     "metadata": {},
     "output_type": "execute_result"
    }
   ],
   "source": [
    "from graphviz import Digraph\n",
    "\n",
    "# 创建一个有向图\n",
    "dot = Digraph()\n",
    "\n",
    "# 要添加的节点及其标注\n",
    "nodes = [('x1', '2'), ('x2', '1'), ('x3', '1'), \n",
    "         ('x4', None), ('x5', None), ('x6', None), ('x7', None), \n",
    "         ('x8', '26,22'), ('x9', '10,10'), ('x10', '10,10'), ('x11', '22,26'),\n",
    "        ('x12', '36,12'), ('x13', '20,0'),('x14', '20,0'), ('x15', '32,16')]\n",
    "\n",
    "# 批量添加带标注的节点\n",
    "for node_info in nodes:\n",
    "    _node, xlabel = node_info\n",
    "    if xlabel is not None:\n",
    "        dot.node(name=_node, label=_node, xlabel=str(xlabel))\n",
    "    else:\n",
    "        dot.node(name=_node, label=_node)\n",
    "\n",
    "# 要添加的边及其标注\n",
    "edges = [('x1', 'x2', 'S'), ('x1', 'x3', 'G'), \n",
    "         ('x2', 'x4', 'O'), ('x2', 'x5', 'F'), ('x3', 'x6', 'O'), ('x3', 'x7', 'F'),\n",
    "        ('x4', 'x8', 'O'), ('x4', 'x9', 'F'), ('x5', 'x10', 'O'), ('x5', 'x11', 'F'),\n",
    "        ('x6', 'x12', 'O'), ('x6', 'x13', 'F'), ('x7', 'x14', 'O'), ('x7', 'x15', 'F')]\n",
    "\n",
    "# 批量添加带标注的边\n",
    "for start, end, label in edges:\n",
    "    dot.edge(start, end, label=label)\n",
    "\n",
    "# 创建一个子图以强制节点在同一层\n",
    "with dot.subgraph() as s:\n",
    "    s.attr(rank='same')  # 指定相同层次\n",
    "    # 添加需要在同一层的节点\n",
    "    s.node('x4')\n",
    "    s.node('x5')\n",
    "    s.node('x6')\n",
    "    s.node('x7')\n",
    "\n",
    "# 添加无向虚线边\n",
    "dashed_edges = [('x4', 'x5', '2'), ('x6', 'x7', '2')] \n",
    "\n",
    "# 批量添加虚线边\n",
    "for start, end, label in dashed_edges:\n",
    "    dot.edge(start, end, label=label, style='dashed', dir='none')\n",
    "\n",
    "# 在 Jupyter Notebook 中直接显示\n",
    "dot\n",
    "dot.render('4-4a', format='png')\n"
   ]
  },
  {
   "cell_type": "code",
   "execution_count": 1,
   "metadata": {},
   "outputs": [
    {
     "data": {
      "text/plain": [
       "'4-5a.png'"
      ]
     },
     "execution_count": 1,
     "metadata": {},
     "output_type": "execute_result"
    }
   ],
   "source": [
    "from graphviz import Digraph\n",
    "\n",
    "# 创建一个有向图\n",
    "dot = Digraph()\n",
    "\n",
    "# 要添加的节点及其标注\n",
    "nodes = [('x1', 'N'), ('x2', '1'), ('x3', '1'), \n",
    "         ('x4', None), ('x5', '0,0'), ('x6', None), ('x7', '0,0'), \n",
    "         ('x8', '2,-2'), ('x9', '4,-4'), ('x10', '2,-2'), ('x11', '-4,4')]\n",
    "\n",
    "# 批量添加带标注的节点\n",
    "for node_info in nodes:\n",
    "    _node, xlabel = node_info\n",
    "    if xlabel is not None:\n",
    "        dot.node(name=_node, label=_node, xlabel=str(xlabel))\n",
    "    else:\n",
    "        dot.node(name=_node, label=_node)\n",
    "\n",
    "# 要添加的边及其标注\n",
    "edges = [('x1', 'x2', 'e'), ('x1', 'x3', 'n'), \n",
    "         ('x2', 'x4', 'A'), ('x2', 'x5', 'B'), ('x3', 'x6', 'A'), ('x3', 'x7', 'B'),\n",
    "        ('x4', 'x8', 'C'), ('x4', 'x9', 'D'), ('x6', 'x10', 'C'), ('x6', 'x11', 'D')]\n",
    "\n",
    "# 批量添加带标注的边\n",
    "for start, end, label in edges:\n",
    "    dot.edge(start, end, label=label)\n",
    "\n",
    "# 创建一个子图以强制节点在同一层\n",
    "with dot.subgraph() as s:\n",
    "    s.attr(rank='same')  # 指定相同层次\n",
    "    # 添加需要在同一层的节点\n",
    "    s.node('x4')\n",
    "    s.node('x6')\n",
    "\n",
    "# 添加无向虚线边\n",
    "dashed_edges = [('x4', 'x6', '2')] \n",
    "\n",
    "# 批量添加虚线边\n",
    "for start, end, label in dashed_edges:\n",
    "    dot.edge(start, end, label=label, style='dashed', dir='none')\n",
    "\n",
    "# 在 Jupyter Notebook 中直接显示\n",
    "dot\n",
    "dot.render('4-5a', format='png')\n"
   ]
  },
  {
   "cell_type": "code",
   "execution_count": 2,
   "metadata": {},
   "outputs": [
    {
     "data": {
      "text/plain": [
       "'5-5.png'"
      ]
     },
     "execution_count": 2,
     "metadata": {},
     "output_type": "execute_result"
    }
   ],
   "source": [
    "from graphviz import Digraph\n",
    "\n",
    "# 创建一个有向图\n",
    "dot = Digraph()\n",
    "\n",
    "# 要添加的节点及其标注 (格式：节点名, 辅助标注)\n",
    "nodes = [('385',None),\n",
    "         ('91', None), ('100',None), ('194',None),\n",
    "         ('49', None), ('64', None), ('81', None), \n",
    "         ('25', None), ('30', None), ('36', None),\n",
    "            ('16', None), ('5', None), ('9', None),\n",
    "            ('4', None), ('1', None)]\n",
    "# 批量添加带标注的节点\n",
    "for node_info in nodes:\n",
    "    _node, xlabel = node_info  # 解包节点名称和辅助标注\n",
    "\n",
    "    # 添加节点，条件性地加入 xlabel\n",
    "    if xlabel is not None:  # 确保 xlabel 是字符串\n",
    "        dot.node(name=_node, label=_node, xlabel=str(xlabel))\n",
    "    else:\n",
    "        dot.node(name=_node, label=_node)\n",
    "\n",
    "# 要添加的边及其标注 (格式：起点, 终点, 标注)\n",
    "edges = [('385', '91', None), ('385', '100', None), ('385', '194', None),\n",
    "         ('194', '49', None), ('194', '64', None), ('194', '81', None),\n",
    "         ('91', '25', None), ('91', '30', None), ('91', '36', None),\n",
    "         ('30', '5', None), ('30', '9', None), ('30', '16', None),\n",
    "         ('5', '4', None), ('5', '1', None)]\n",
    "\n",
    "# 批量添加带标注的边\n",
    "for start, end, label in edges:\n",
    "    dot.edge(start, end, label=label)\n",
    "\n",
    "# 在 Jupyter Notebook 中直接显示\n",
    "dot\n",
    "dot.render('5-5', format='png')\n"
   ]
  },
  {
   "cell_type": "code",
   "execution_count": 1,
   "metadata": {},
   "outputs": [
    {
     "data": {
      "text/plain": [
       "'6-1-1.png'"
      ]
     },
     "execution_count": 1,
     "metadata": {},
     "output_type": "execute_result"
    }
   ],
   "source": [
    "from graphviz import Digraph\n",
    "\n",
    "# 创建一个有向图\n",
    "dot = Digraph()\n",
    "\n",
    "# 要添加的节点及其标注 (格式：节点名, 辅助标注)\n",
    "nodes = [('A',None), ('B', None), ('C', None), ('D', None),\n",
    "            ('E', None), ('F', None), ('G', None), ('H', None),\n",
    "            ('I', None), ('J', None)]\n",
    "# 批量添加带标注的节点\n",
    "for node_info in nodes:\n",
    "    _node, xlabel = node_info  # 解包节点名称和辅助标注\n",
    "\n",
    "    # 添加节点，条件性地加入 xlabel\n",
    "    if xlabel is not None:  # 确保 xlabel 是字符串\n",
    "        dot.node(name=_node, label=_node, xlabel=str(xlabel))\n",
    "    else:\n",
    "        dot.node(name=_node, label=_node)\n",
    "\n",
    "# 要添加的边及其标注 (格式：起点, 终点, 标注)\n",
    "edges = [('A', 'B', None), ('A', 'C', None), ('A', 'D', None),\n",
    "            ('B', 'E', None), ('B', 'F', None), ('D', 'G', None),\n",
    "            ('E', 'H', None), ('E', 'I', None), ('F', 'J', None)]\n",
    "\n",
    "# 批量添加带标注的边\n",
    "for start, end, label in edges:\n",
    "    dot.edge(start, end, label=label)\n",
    "\n",
    "# 在 Jupyter Notebook 中直接显示\n",
    "dot\n",
    "dot.render('6-1-1', format='png')\n"
   ]
  },
  {
   "cell_type": "code",
   "execution_count": 9,
   "metadata": {},
   "outputs": [
    {
     "data": {
      "text/plain": [
       "'7-2-1.png'"
      ]
     },
     "execution_count": 9,
     "metadata": {},
     "output_type": "execute_result"
    }
   ],
   "source": [
    "from graphviz import Graph\n",
    "\n",
    "# 创建一个无向图，并指定布局为 'neato' 以使用坐标\n",
    "dot = Graph(engine='neato')\n",
    "\n",
    "# 要添加的节点及其坐标 (格式：节点名, 辅助标注, x 坐标, y 坐标)\n",
    "nodes = [('A', None, 0, 1), ('B', None, 1, 1), ('C', None, 0, 0), ('D', None, 1, 0)]\n",
    "\n",
    "# 批量添加带标注的节点，并指定位置\n",
    "for node_info in nodes:\n",
    "    _node, xlabel, x, y = node_info  # 解包节点名称、辅助标注和坐标\n",
    "\n",
    "    # 添加节点，设置位置和标注\n",
    "    dot.node(name=_node, label=_node, pos=f'{x},{y}!')\n",
    "\n",
    "# 要添加的边及其标注 (格式：起点, 终点, 标注)\n",
    "edges = [('A', 'B', 1), ('A', 'C', 3), ('A', 'D', 100),\n",
    "         ('B', 'C', 100), ('B', 'D', 4), ('C', 'D', 3)]\n",
    "\n",
    "# 批量添加带标注的边\n",
    "for start, end, label in edges:\n",
    "    dot.edge(start, end, label=str(label))\n",
    "\n",
    "# 在 Jupyter Notebook 中直接显示\n",
    "dot.render('7-2-1', format='png')\n"
   ]
  },
  {
   "cell_type": "code",
   "execution_count": null,
   "metadata": {},
   "outputs": [],
   "source": []
  }
 ],
 "metadata": {
  "kernelspec": {
   "display_name": "Python 3",
   "language": "python",
   "name": "python3"
  },
  "language_info": {
   "codemirror_mode": {
    "name": "ipython",
    "version": 3
   },
   "file_extension": ".py",
   "mimetype": "text/x-python",
   "name": "python",
   "nbconvert_exporter": "python",
   "pygments_lexer": "ipython3",
   "version": "3.8.10"
  }
 },
 "nbformat": 4,
 "nbformat_minor": 2
}
