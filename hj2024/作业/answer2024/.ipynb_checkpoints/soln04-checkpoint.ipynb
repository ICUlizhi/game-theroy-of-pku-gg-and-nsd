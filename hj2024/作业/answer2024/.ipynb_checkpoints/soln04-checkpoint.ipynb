{
 "cells": [
  {
   "cell_type": "markdown",
   "metadata": {},
   "source": [
    "## Problem Set 4\n",
    "### 1. ST Exercise 7.2\n",
    "#### (a)\n",
    "The game is perfect information. The game tree is as followed:"
   ]
  },
  {
   "cell_type": "code",
   "execution_count": null,
   "metadata": {},
   "outputs": [],
   "source": [
    "from graphviz import Digraph\n",
    "\n",
    "# 创建一个有向图\n",
    "dot = Digraph()\n",
    "\n",
    "# 要添加的节点及其标注 (格式：节点名, 主标注, 辅助标注)\n",
    "nodes = [('x1', '1'), ('x2'), ('x3', '2'), ('x4'), ('x5', '1'), ('x6'), ('x7')]\n",
    "\n",
    "# 批量添加带标注的节点\n",
    "for node_info in nodes:\n",
    "    if len(node_info) == 3:  # 有三个元素\n",
    "        _node, xlabel = node_info\n",
    "    else:  # 只有两个元素\n",
    "        _node = node_info[0]\n",
    "        xlabel = None  # 或者可以设为一个默认值，例如 \"N/A\"\n",
    "\n",
    "    # 添加节点，条件性地加入 xlabel\n",
    "    if xlabel:\n",
    "        dot.node(_node, label=_node, xlabel=xlabel)\n",
    "    else:\n",
    "        dot.node(_node, label=_node)\n",
    "\n",
    "# 要添加的边及其标注 (格式：起点, 终点, 标注)\n",
    "edges = [('x1', 'x2', 'A'), ('x1', 'x3', 'B'), ('x3', 'x4', 'C'), ('x3', 'x5', 'D'), ('x5', 'x6', 'E'), ('x5', 'x7', 'F')]\n",
    "\n",
    "# 批量添加带标注的边\n",
    "for start, end, label in edges:\n",
    "    dot.edge(start, end, label=label)\n",
    "\n",
    "# 在 Jupyter Notebook 中直接显示\n",
    "dot\n"
   ]
  },
  {
   "cell_type": "code",
   "execution_count": null,
   "metadata": {},
   "outputs": [],
   "source": []
  }
 ],
 "metadata": {
  "kernelspec": {
   "display_name": "Python 3",
   "language": "python",
   "name": "python3"
  },
  "language_info": {
   "codemirror_mode": {
    "name": "ipython",
    "version": 3
   },
   "file_extension": ".py",
   "mimetype": "text/x-python",
   "name": "python",
   "nbconvert_exporter": "python",
   "pygments_lexer": "ipython3",
   "version": "3.8.10"
  }
 },
 "nbformat": 4,
 "nbformat_minor": 2
}
